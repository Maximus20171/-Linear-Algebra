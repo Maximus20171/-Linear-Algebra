{
 "cells": [
  {
   "cell_type": "markdown",
   "metadata": {},
   "source": [
    "__1.__ Решить систему уравнений методом Крамера:\n",
    "\n",
    "   а) $\\begin{cases}\n",
    "x_{1}-2x_{2}=1 \\\\\n",
    "3x_{1}-4x_{2}=7\n",
    "\\end{cases}$\n",
    "    \n",
    "   б) $\\begin{cases}\n",
    "2x_{1}-x_{2}+5x_{3}=10 \\\\\n",
    "x_{1}+x_{2}-3x_{3}=-2 \\\\\n",
    "2x_{1}+4x_{2}+x_{3}=1\n",
    "\\end{cases}$"
   ]
  },
  {
   "cell_type": "markdown",
   "metadata": {},
   "source": [
    "__Решение:__\n",
    "\n",
    "   а) $\\begin{cases}\n",
    "x_{1}-2x_{2}=1 \\\\\n",
    "3x_{1}-4x_{2}=7\n",
    "\\end{cases}$"
   ]
  },
  {
   "cell_type": "code",
   "execution_count": 1,
   "metadata": {},
   "outputs": [],
   "source": [
    "import numpy as np"
   ]
  },
  {
   "cell_type": "code",
   "execution_count": 2,
   "metadata": {},
   "outputs": [
    {
     "data": {
      "text/plain": [
       "2.0"
      ]
     },
     "execution_count": 2,
     "metadata": {},
     "output_type": "execute_result"
    }
   ],
   "source": [
    "#Найдем определитель матрицы коэффициентов:\n",
    "x = [1, -2]\n",
    "y = [3, -4]\n",
    "a = np.array([x, y])\n",
    "round(np.linalg.det(a),2)"
   ]
  },
  {
   "cell_type": "code",
   "execution_count": 3,
   "metadata": {},
   "outputs": [
    {
     "name": "stdout",
     "output_type": "stream",
     "text": [
      "определитель А1 = 10.0\n",
      "определитель А2 = 4.0\n"
     ]
    }
   ],
   "source": [
    "## Найдем определитель А1 и А2\n",
    "x = [1, -2]\n",
    "y = [7, -4]\n",
    "a1 = np.array([x, y])\n",
    "x = [1, 1]\n",
    "y = [3, 7]\n",
    "a2 = np.array([x, y])\n",
    "print(f'определитель А1 = {round(np.linalg.det(a1),2)}')\n",
    "print(f'определитель А2 = {round(np.linalg.det(a2),2)}')"
   ]
  },
  {
   "cell_type": "markdown",
   "metadata": {},
   "source": [
    "Найдем решение по формулам Крамера:\n",
    "\n",
    "$$x_{1} = \\frac{detA_{1}}{detA} = \\frac{10}{2}=5$$\n",
    "\n",
    "\n",
    "$$x_{2} = \\frac{detA_{2}}{detA} = \\frac{4}{2}=2$$\n"
   ]
  },
  {
   "cell_type": "markdown",
   "metadata": {},
   "source": [
    "   б) $\\begin{cases}\n",
    "2x_{1}-x_{2}+5x_{3}=10 \\\\\n",
    "x_{1}+x_{2}-3x_{3}=-2 \\\\\n",
    "2x_{1}+4x_{2}+x_{3}=1\n",
    "\\end{cases}$"
   ]
  },
  {
   "cell_type": "code",
   "execution_count": 4,
   "metadata": {},
   "outputs": [
    {
     "data": {
      "text/plain": [
       "43.0"
      ]
     },
     "execution_count": 4,
     "metadata": {},
     "output_type": "execute_result"
    }
   ],
   "source": [
    "#Найдем определитель матрицы коэффициентов:\n",
    "x = [2, -1, 5]\n",
    "y = [1, 1, -3]\n",
    "z = [2, 4, 1]\n",
    "a = np.array([x, y, z])\n",
    "round(np.linalg.det(a),2)"
   ]
  },
  {
   "cell_type": "code",
   "execution_count": 5,
   "metadata": {},
   "outputs": [
    {
     "name": "stdout",
     "output_type": "stream",
     "text": [
      "определитель А1 = 86.0\n",
      "определитель А2 = -43.0\n",
      "определитель А3 = 43.0\n"
     ]
    }
   ],
   "source": [
    "## Найдем определитель А1, А2, A3\n",
    "x = [10, -1, 5]\n",
    "y = [-2, 1, -3]\n",
    "z = [1, 4, 1]\n",
    "a1 = np.array([x, y, z])\n",
    "x = [2, 10, 5]\n",
    "y = [1, -2, -3]\n",
    "z = [2, 1, 1]\n",
    "a2 = np.array([x, y, z])\n",
    "x = [2, -1, 10]\n",
    "y = [1, 1, -2]\n",
    "z = [2, 4, 1]\n",
    "a3 = np.array([x, y, z])\n",
    "print(f'определитель А1 = {round(np.linalg.det(a1),2)}')\n",
    "print(f'определитель А2 = {round(np.linalg.det(a2),2)}')\n",
    "print(f'определитель А3 = {round(np.linalg.det(a3),2)}')"
   ]
  },
  {
   "cell_type": "markdown",
   "metadata": {},
   "source": [
    "Найдем решение по формулам Крамера:\n",
    "\n",
    "$$x_{1} = \\frac{detA_{1}}{detA} = \\frac{86}{43}=2$$\n",
    "\n",
    "\n",
    "$$x_{2} = \\frac{detA_{2}}{detA} = \\frac{-43}{43}=-1$$\n",
    "\n",
    "\n",
    "$$x_{3} = \\frac{detA_{3}}{detA} = \\frac{43}{43}=1$$\n",
    "\n"
   ]
  },
  {
   "cell_type": "code",
   "execution_count": null,
   "metadata": {},
   "outputs": [],
   "source": []
  },
  {
   "cell_type": "markdown",
   "metadata": {},
   "source": [
    "__2*.__ Найти $L$-матрицу $LU$-разложения для матрицы коэффициентов:\n",
    "\n",
    "   а)$$\\begin{pmatrix}\n",
    "1 & 2 & 4 \\\\ \n",
    "2 & 9 & 12 \\\\ \n",
    "3 & 26 & 30\n",
    "\\end{pmatrix}$$\n",
    "    \n",
    "   б)$$\\begin{pmatrix}\n",
    "1 & 1 & 2 & 4\\\\ \n",
    "2 & 5 & 8 & 9\\\\ \n",
    "3 & 18 & 29 & 18\\\\\n",
    "4 & 22 & 53 & 33\n",
    "\\end{pmatrix}$$"
   ]
  },
  {
   "cell_type": "markdown",
   "metadata": {},
   "source": [
    "__Решение__\n",
    "\n",
    "а)\n",
    "\n",
    "Начнем прямой ход метода Гаусса. Для этого домножим первую строку на $2$ и вычтем ее из второго уравнения. При этом запишем в матрицу $L$ на место элемента $l_{21}$ значение $2$. \n",
    "\n",
    "$$\\begin{pmatrix}\n",
    "1 & 2 & 4 \\\\ \n",
    "0 & 5 & 4 \\\\ \n",
    "3 & 26 & 30\n",
    "\\end{pmatrix}$$\n",
    "\n",
    "Затем нам нужно вычесть из третьего уравнения первое, домноженное на $3$. Значит, в матрицу $L$ запишем $l_{31}=3$. \n",
    "\n",
    "$$\\begin{pmatrix}\n",
    "1 & 2 & 4 \\\\ \n",
    "0 & 5 & 4 \\\\ \n",
    "0 & 20 & 18\n",
    "\\end{pmatrix}$$\n",
    "\n",
    "Далее умножим вторую строку на $4$ и вычтем ее из третьей. При этом в матрицу $L$ на место $l_{32}$ запишем $4$.\n",
    "\n",
    "$$\\begin{pmatrix}\n",
    "1 & 2 & 4 \\\\ \n",
    "0 & 5 & 4 \\\\ \n",
    "0 & 0 & 2\n",
    "\\end{pmatrix}$$\n",
    "\n",
    "В итоге получим\n",
    "\n",
    "$$U=\\begin{pmatrix}\n",
    "1 & 2 & 4 \\\\ \n",
    "0 & 5 & 4 \\\\ \n",
    "0 & 0 & 2\n",
    "\\end{pmatrix}$$\n",
    "\n",
    "\n",
    "$$L=\\begin{pmatrix}\n",
    "1 & 0 & 0 \\\\ \n",
    "2 & 1 & 0 \\\\ \n",
    "3 & 4 & 1\n",
    "\\end{pmatrix}$$\n",
    "\n"
   ]
  },
  {
   "cell_type": "code",
   "execution_count": 6,
   "metadata": {},
   "outputs": [
    {
     "data": {
      "text/plain": [
       "array([[ 1,  2,  4],\n",
       "       [ 2,  9, 12],\n",
       "       [ 3, 26, 30]])"
      ]
     },
     "execution_count": 6,
     "metadata": {},
     "output_type": "execute_result"
    }
   ],
   "source": [
    "# проверка\n",
    "u=np.array([[1, 2, 4], [0, 5, 4], [0, 0, 2]])\n",
    "l=np.array([[1, 0, 0], [2, 1, 0], [3, 4, 1]])\n",
    "np.dot(l,u)"
   ]
  },
  {
   "cell_type": "markdown",
   "metadata": {},
   "source": [
    "б)\n",
    "\n",
    "Начнем прямой ход метода Гаусса. Для этого из второй вытем первую имноженную на 2, из третьей первую умноженную на 3 и из четвертой первую умноженную на 4\n",
    "\n",
    "$$\\begin{pmatrix}\n",
    "1 & 1 & 2 & 4\\\\ \n",
    "0 & 3 & 4 & 1\\\\ \n",
    "0 & 15 & 23 & 6\\\\\n",
    "0 & 18 & 45 & 17\n",
    "\\end{pmatrix}$$\n",
    "\n",
    "Далее из третьей вычтем вторую умноженную на 5 и из четвертой вторую умноженную на 6\n",
    "\n",
    "$$\\begin{pmatrix}\n",
    "1 & 1 & 2 & 4\\\\ \n",
    "0 & 3 & 4 & 1\\\\ \n",
    "0 & 0 & 3 & 1\\\\\n",
    "0 & 0 & 21 & 11\n",
    "\\end{pmatrix}$$\n",
    "\n",
    "Далее из четвертой вычтем третью строку умноженную на 7\n",
    "\n",
    "$$\\begin{pmatrix}\n",
    "1 & 1 & 2 & 4\\\\ \n",
    "0 & 3 & 4 & 1\\\\ \n",
    "0 & 0 & 3 & 1\\\\\n",
    "0 & 0 & 0 & 4\n",
    "\\end{pmatrix}$$\n",
    "\n",
    "\n",
    "В итоге получим\n",
    "\n",
    "$$U=\\begin{pmatrix}\n",
    "1 & 1 & 2 & 4\\\\ \n",
    "0 & 3 & 4 & 1\\\\ \n",
    "0 & 0 & 3 & 1\\\\\n",
    "0 & 0 & 0 & 4\n",
    "\\end{pmatrix}$$\n",
    "\n",
    "\n",
    "\n",
    "$$L=\\begin{pmatrix}\n",
    "1 & 0 & 0 & 0\\\\ \n",
    "2 & 1 & 0 & 0\\\\ \n",
    "3 & 5 & 1 & 0\\\\\n",
    "4 & 6 & 7 & 0\n",
    "\\end{pmatrix}$$\n",
    "\n"
   ]
  },
  {
   "cell_type": "code",
   "execution_count": 7,
   "metadata": {},
   "outputs": [
    {
     "data": {
      "text/plain": [
       "array([[ 1,  1,  2,  4],\n",
       "       [ 2,  5,  8,  9],\n",
       "       [ 3, 18, 29, 18],\n",
       "       [ 4, 22, 53, 29]])"
      ]
     },
     "execution_count": 7,
     "metadata": {},
     "output_type": "execute_result"
    }
   ],
   "source": [
    "# проверка\n",
    "u=np.array([[1, 1, 2, 4], [0, 3, 4, 1], [0, 0, 3, 1], [0, 0, 0, 4]])\n",
    "l=np.array([[1, 0, 0, 0], [2, 1, 0, 0], [3, 5, 1, 0], [4, 6, 7, 0]])\n",
    "np.dot(l,u)"
   ]
  },
  {
   "cell_type": "code",
   "execution_count": null,
   "metadata": {},
   "outputs": [],
   "source": []
  },
  {
   "cell_type": "markdown",
   "metadata": {},
   "source": [
    "__3*.__ Решить систему линейных уравнений методом $LU$-разложения\n",
    "\n",
    "$$\\begin{cases}\n",
    "2x_{1}+x_{2}+3x_{3}=1 \\\\\n",
    "11x_{1}+7x_{2}+5x_{3}=-6 \\\\\n",
    "9x_{1}+8x_{2}+4x_{3}=-5\n",
    "\\end{cases}$$"
   ]
  },
  {
   "cell_type": "markdown",
   "metadata": {},
   "source": [
    "__Решение__\n",
    "\n",
    "Матрица коэффициентов $A$ будет иметь вид\n",
    "\n",
    "$$\\begin{pmatrix}\n",
    "2 & 1 & 3 \\\\ \n",
    "11 & 7 & 5 \\\\ \n",
    "9 & 8 & 4\n",
    "\\end{pmatrix}$$\n",
    "\n",
    "Начнем прямой ход метода Гаусса. Для этого из второй вытем первую имноженную на 5.5, из третьей первую умноженную на 4.5\n",
    "\n",
    "$$\\begin{pmatrix}\n",
    "2 & 1 & 3 \\\\ \n",
    "0 & 1.5 & -11.5 \\\\ \n",
    "0 & 3.5 & -9.5\n",
    "\\end{pmatrix}$$\n",
    "\n",
    "Далее из третьей строки вычетаем вторую уиноженную на $\\frac{7}{3}$\n",
    "\n",
    "$$U=\\begin{pmatrix}\n",
    "2 & 1 & 3 \\\\ \n",
    "0 & 1.5 & -11.5 \\\\ \n",
    "0 & 0 & \\frac{52}{3}\n",
    "\\end{pmatrix}$$\n",
    "\n",
    "\n",
    "\n",
    "В итоге получим\n",
    "\n",
    "$$U=\\begin{pmatrix}\n",
    "2 & 1 & 3 \\\\ \n",
    "0 & 1.5 & -11.5 \\\\ \n",
    "0 & 0 & \\frac{52}{3}\n",
    "\\end{pmatrix}$$\n",
    "\n",
    "\n",
    "$$L=\\begin{pmatrix}\n",
    "1 & 0 & 0 \\\\ \n",
    "5.5 & 1 & 0 \\\\ \n",
    "4.5 & \\frac{7}{3} & 1\n",
    "\\end{pmatrix}$$\n",
    "\n"
   ]
  },
  {
   "cell_type": "code",
   "execution_count": 8,
   "metadata": {},
   "outputs": [
    {
     "data": {
      "text/plain": [
       "array([[ 2.,  1.,  3.],\n",
       "       [11.,  7.,  5.],\n",
       "       [ 9.,  8.,  4.]])"
      ]
     },
     "execution_count": 8,
     "metadata": {},
     "output_type": "execute_result"
    }
   ],
   "source": [
    "# проверка\n",
    "u=np.array([[2, 1, 3], [0, 1.5, -11.5], [0, 0, 52/3]])\n",
    "l=np.array([[1, 0, 0], [5.5, 1, 0], [4.5, 7/3, 1]])\n",
    "np.dot(l,u)"
   ]
  },
  {
   "cell_type": "markdown",
   "metadata": {},
   "source": [
    "Решим теперь систему \n",
    "\n",
    "$$Ly=b:$$\n",
    "\n",
    "$$\\begin{cases}\n",
    "y_{1}=1, \\\\\n",
    "5.5y_{1}+y_{2}=-6, \\\\\n",
    "4.5y_{1}+\\frac{7}{3}y_{2}+y_{3}=-5\n",
    "\\end{cases}$$\n",
    "\n",
    "$$y_{1}=1,$$\n",
    "$$y_{2}=-11.5,$$\n",
    "$$y_{3}=\\frac{52}{3}$$\n",
    "\n",
    "\n",
    "И затем систему\n",
    "\n",
    "$$Ux=y:$$\n",
    "\n",
    "$$\\begin{cases}\n",
    "2x_{1}+1x_{2}+3x_{3}=1, \\\\\n",
    "1.5x_{2}-11.5x_{3}=-11.5, \\\\\n",
    "\\frac{52}{3}x_{3}=\\frac{52}{3}.\n",
    "\\end{cases}$$\n",
    "\n",
    "$$x_{3}=1$$\n",
    "\n",
    "$$x_{2}=0$$\n",
    "\n",
    "$$x_{1}=-1$$\n",
    "\n"
   ]
  },
  {
   "cell_type": "code",
   "execution_count": null,
   "metadata": {},
   "outputs": [],
   "source": []
  },
  {
   "cell_type": "markdown",
   "metadata": {},
   "source": [
    "__4*.__ Решить систему линейных уравнений методом Холецкого\n",
    "\n",
    "$$\\begin{cases}\n",
    "81x_{1}-45x_{2}+45x_{3}=531 \\\\\n",
    "-45x_{1}+50x_{2}-15x_{3}=-460 \\\\\n",
    "45x_{1}-15x_{2}+38x_{3}=193\n",
    "\\end{cases}$$"
   ]
  },
  {
   "cell_type": "markdown",
   "metadata": {},
   "source": [
    "__Решение:__\n",
    "\n",
    "Произведем разложение на $LL^{T}$:\n",
    "\n",
    "$$l_{11}=\\sqrt{a_{11}}=\\sqrt{81}=9,$$\n",
    "$$l_{21}=\\frac{a_{21}}{l_{11}}=\\frac{-45}{9}=-5,$$\n",
    "$$l_{31}=\\frac{a_{31}}{l_{11}}=\\frac{45}{9}=5,$$\n",
    "\n",
    "$$l_{22}=\\sqrt{a_{22}-l_{21}^{2}}=\\sqrt{50 - 25}=5,$$\n",
    "$$l_{32}=\\frac{1}{l_{22}}\\left ( a_{32}-l_{21}l_{31} \\right)=\\frac{1}{5} (-15-(-5)\\cdot 5)=\\frac{1}{5}\\cdot 10=2$$\n",
    "\n",
    "$$l_{33}=\\sqrt{a_{33}-l_{31}^{2}-l_{32}^{2}}=\\sqrt{38-25-4}=3.$$\n",
    "\n",
    "Получили матрицу \n",
    "\n",
    "$$L = \\begin{pmatrix}\n",
    "9 & 0 & 0 \\\\ \n",
    "-5 & 5 & 0 \\\\ \n",
    "5 & 2 & 3\n",
    "\\end{pmatrix}, \n",
    "\\; \\; \n",
    "L^{T} = \\begin{pmatrix}\n",
    "9 & -5 & 5 \\\\ \n",
    "0 & 5 & 2 \\\\ \n",
    "0 & 0 & 3\n",
    "\\end{pmatrix}.$$\n",
    "\n",
    "\n",
    "Решим систему $Ly=b:$\n",
    "\n",
    "$$\\begin{cases}\n",
    "9y_{1}=531, \\\\\n",
    "-5y_{1}+5y_{2}=-460, \\\\\n",
    "5y_{1}+2y_{2}+3y_{3}=193.\n",
    "\\end{cases}$$\n",
    "\n",
    "$$y_{1} = 59,$$\n",
    "\n",
    "$$y_{2}=-33,$$\n",
    "\n",
    "$$y_{3}=-12.$$\n",
    "\n",
    "И решим систему $L^{T}x=y:$\n",
    "\n",
    "$$\\begin{cases}\n",
    "9x_{1}-5x_{2}+5x_{3}=59, \\\\\n",
    "5x_{2}+2x_{3}=-33, \\\\\n",
    "3x_{3}=-12.\n",
    "\\end{cases}$$\n",
    "\n",
    "$$x_{3}=-4$$\n",
    "\n",
    "$$x_{2}=-5$$\n",
    "\n",
    "$$x_{1}=6$$\n",
    "\n"
   ]
  },
  {
   "cell_type": "code",
   "execution_count": null,
   "metadata": {},
   "outputs": [],
   "source": []
  },
  {
   "cell_type": "markdown",
   "metadata": {},
   "source": [
    "__5*.__ Написать на Python программу с реализацией одного из изученных алгоритмов решения СЛАУ."
   ]
  },
  {
   "cell_type": "code",
   "execution_count": 138,
   "metadata": {},
   "outputs": [],
   "source": [
    "def decompose_to_LU(a):\n",
    "    #Разложение матрицы коэффициентов на матрицы L и U.\n",
    "    #Треугольные матрицы L и U будут представлены в одной матрице размера nxn.\n",
    "    \n",
    "    lu_matrix = np.matrix(np.zeros([a.shape[0], a.shape[1]]))\n",
    "    n = a.shape[0]\n",
    "    for k in range(n):\n",
    "        for j in range(k, n):\n",
    "            lu_matrix[k, j] = a[k, j] - lu_matrix[k, :k] * lu_matrix[:k, j]\n",
    "        for i in range(k + 1, n):\n",
    "            lu_matrix[i, k] = (a[i, k] - lu_matrix[i, : k] * lu_matrix[: k, k]) / lu_matrix[k, k]\n",
    "\n",
    "    return lu_matrix"
   ]
  },
  {
   "cell_type": "code",
   "execution_count": 139,
   "metadata": {},
   "outputs": [],
   "source": [
    "def get_L(m):\n",
    "    # получаем L матрицу\n",
    "    L = m.copy()\n",
    "    for i in range(L.shape[0]):\n",
    "            L[i, i] = 1\n",
    "            L[i, i+1 :] = 0\n",
    "    return np.matrix(L)\n",
    "\n",
    "\n",
    "def get_U(m):\n",
    "    # получаем U матрицу\n",
    "    U = m.copy()\n",
    "    for i in range(1, U.shape[0]):\n",
    "        U[i, :i] = 0\n",
    "    return U"
   ]
  },
  {
   "cell_type": "code",
   "execution_count": 140,
   "metadata": {},
   "outputs": [],
   "source": [
    "def solve_LU(lu_matrix,b):\n",
    "    # Решаем систему уровнение.\n",
    "    \n",
    "    y = np.matrix(np.zeros([lu_matrix.shape[0], 1]))\n",
    "    for i in range(y.shape[0]):\n",
    "        y[i, 0] = b[i, 0] - lu_matrix[i, :i] * y[:i]\n",
    "\n",
    "    x = np.matrix(np.zeros([lu_matrix.shape[0], 1]))\n",
    "    for i in range(1, x.shape[0] + 1):\n",
    "        x[-i, 0] = (y[-i] - lu_matrix[-i, -i:] * x[-i:, 0] )/ lu_matrix[-i, -i]\n",
    "\n",
    "    return x"
   ]
  },
  {
   "cell_type": "code",
   "execution_count": 141,
   "metadata": {},
   "outputs": [
    {
     "data": {
      "text/plain": [
       "matrix([[ 2.,  1.,  1.],\n",
       "        [ 2., -8., -2.],\n",
       "        [-1., -1.,  1.]])"
      ]
     },
     "execution_count": 141,
     "metadata": {},
     "output_type": "execute_result"
    }
   ],
   "source": [
    "## Проверка\n",
    "a= np.array([[2, 1, 1], [4, -6, 0], [-2, 7, 2]])\n",
    "b= np.array([[5], [-2], [9]])\n",
    "decompose_to_LU(a)"
   ]
  },
  {
   "cell_type": "code",
   "execution_count": 142,
   "metadata": {},
   "outputs": [],
   "source": [
    "LU = decompose_to_LU(a)\n",
    "L = get_L(LU)\n",
    "U = get_U(LU)"
   ]
  },
  {
   "cell_type": "code",
   "execution_count": 143,
   "metadata": {},
   "outputs": [
    {
     "data": {
      "text/plain": [
       "matrix([[ 1.,  0.,  0.],\n",
       "        [ 2.,  1.,  0.],\n",
       "        [-1., -1.,  1.]])"
      ]
     },
     "execution_count": 143,
     "metadata": {},
     "output_type": "execute_result"
    }
   ],
   "source": [
    "L"
   ]
  },
  {
   "cell_type": "code",
   "execution_count": 144,
   "metadata": {},
   "outputs": [
    {
     "data": {
      "text/plain": [
       "matrix([[ 2.,  1.,  1.],\n",
       "        [ 0., -8., -2.],\n",
       "        [ 0.,  0.,  1.]])"
      ]
     },
     "execution_count": 144,
     "metadata": {},
     "output_type": "execute_result"
    }
   ],
   "source": [
    "U"
   ]
  },
  {
   "cell_type": "code",
   "execution_count": 145,
   "metadata": {},
   "outputs": [
    {
     "data": {
      "text/plain": [
       "matrix([[ 2.,  1.,  1.],\n",
       "        [ 4., -6.,  0.],\n",
       "        [-2.,  7.,  2.]])"
      ]
     },
     "execution_count": 145,
     "metadata": {},
     "output_type": "execute_result"
    }
   ],
   "source": [
    "np.dot(L, U)"
   ]
  },
  {
   "cell_type": "code",
   "execution_count": 146,
   "metadata": {},
   "outputs": [
    {
     "data": {
      "text/plain": [
       "matrix([[1.],\n",
       "        [1.],\n",
       "        [2.]])"
      ]
     },
     "execution_count": 146,
     "metadata": {},
     "output_type": "execute_result"
    }
   ],
   "source": [
    "solve_LU(LU, b)"
   ]
  },
  {
   "cell_type": "code",
   "execution_count": null,
   "metadata": {},
   "outputs": [],
   "source": []
  },
  {
   "cell_type": "code",
   "execution_count": null,
   "metadata": {},
   "outputs": [],
   "source": []
  }
 ],
 "metadata": {
  "kernelspec": {
   "display_name": "Python 3",
   "language": "python",
   "name": "python3"
  },
  "language_info": {
   "codemirror_mode": {
    "name": "ipython",
    "version": 3
   },
   "file_extension": ".py",
   "mimetype": "text/x-python",
   "name": "python",
   "nbconvert_exporter": "python",
   "pygments_lexer": "ipython3",
   "version": "3.7.6"
  }
 },
 "nbformat": 4,
 "nbformat_minor": 4
}
