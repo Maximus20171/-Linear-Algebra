{
 "cells": [
  {
   "cell_type": "markdown",
   "metadata": {},
   "source": [
    "__1.__ Вычислить определитель:\n",
    "\n",
    "   a)\n",
    "\n",
    "$$\\begin{vmatrix}\n",
    "sinx & -cosx\\\\ \n",
    "cosx & sinx\n",
    "\\end{vmatrix};$$\n",
    "\n",
    "   б)\n",
    "    \n",
    "$$\\begin{vmatrix}\n",
    "4 & 2 & 3\\\\ \n",
    "0 & 5 & 1\\\\ \n",
    "0 & 0 & 9\n",
    "\\end{vmatrix};$$\n",
    "    \n",
    "   в)\n",
    "\n",
    "$$\\begin{vmatrix}\n",
    "1 & 2 & 3\\\\ \n",
    "4 & 5 & 6\\\\ \n",
    "7 & 8 & 9\n",
    "\\end{vmatrix}.$$\n"
   ]
  },
  {
   "cell_type": "markdown",
   "metadata": {},
   "source": [
    "__Решение__\n",
    "\n",
    "а) \n",
    "$$\\begin{vmatrix}\n",
    "sinx & -cosx\\\\ \n",
    "cosx & sinx\n",
    "\\end{vmatrix}=\n",
    "sinx\\cdot sinx - cosx \\cdot (-cosx)=\\frac{1}{2}(1-cos(2x))+\\frac{1}{2}(1+cos(2x))=1\n",
    "$$\n",
    "\n",
    "б)\n",
    "$$\\begin{vmatrix}\n",
    "4 & 2 & 3\\\\ \n",
    "0 & 5 & 1\\\\ \n",
    "0 & 0 & 9\n",
    "\\end{vmatrix}=\n",
    "4\\cdot\n",
    "\\begin{vmatrix}\n",
    "5 & 1\\\\ \n",
    "0 & 9\n",
    "\\end{vmatrix} -0 \\cdot\n",
    "\\begin{vmatrix}\n",
    "2 & 3\\\\ \n",
    "0 & 9\n",
    "\\end{vmatrix} + 0 \\cdot\n",
    "\\begin{vmatrix}\n",
    "2 & 3\\\\ \n",
    "5 & 1\n",
    "\\end{vmatrix} =180\n",
    "$$\n",
    "\n",
    "Или по свойсву определителя треугольной матрицы определитель равен произведению элементов главной диагонали. Т.е. $$4\\cdot5\\cdot9=180$$\n",
    "\n",
    "в)\n",
    "$$\\begin{vmatrix}\n",
    "1 & 2 & 3\\\\ \n",
    "4 & 5 & 6\\\\ \n",
    "7 & 8 & 9\n",
    "\\end{vmatrix}$$\n"
   ]
  },
  {
   "cell_type": "markdown",
   "metadata": {},
   "source": [
    "$$\\begin{vmatrix}\n",
    "1 & 2 & 3\\\\ \n",
    "4 & 5 & 6\\\\ \n",
    "7 & 8 & 9\n",
    "\\end{vmatrix}= 1\\cdot\n",
    "\\begin{vmatrix}\n",
    "5 & 6\\\\\n",
    "8 & 9\n",
    "\\end{vmatrix}- 2\\cdot\n",
    "\\begin{vmatrix}\n",
    "4 & 6\\\\\n",
    "7 & 9\n",
    "\\end{vmatrix} +3\\cdot\n",
    "\\begin{vmatrix}\n",
    "4 & 5\\\\\n",
    "7 & 8\n",
    "\\end{vmatrix} =\n",
    "1\\cdot(-3)-2\\cdot(-6)+3\\cdot(-3)=0\n",
    "$$"
   ]
  },
  {
   "cell_type": "code",
   "execution_count": null,
   "metadata": {},
   "outputs": [],
   "source": []
  },
  {
   "cell_type": "markdown",
   "metadata": {},
   "source": [
    "__2.__ Определитель матрицы $A$ равен $4$. Найти:\n",
    "\n",
    "   а) $det(A^{2})$;\n",
    "    \n",
    "   б) $det(A^{T})$;\n",
    "    \n",
    "   в) $det(2A)$."
   ]
  },
  {
   "cell_type": "markdown",
   "metadata": {},
   "source": [
    "__Решение__\n",
    "\n",
    "а) по свойству определителя $det(AB)=detA\\cdot detB$. Т.е $det(AA)=detA\\cdot detA=16$\n",
    "\n",
    "б) по свойству определителя $detA^{T}=detA=4$\n",
    "\n",
    "в) \n",
    "\n",
    "$$detcA=2^n detA$$ где n - разрядность матрицы. \n",
    "\n",
    "Для нахождении Это же формулы можно использовать другое свойсво: Умножение строки или столбца матрицы на число $\\lambda$ приведет к умножению определителя матрицы на то же число. Исходя из определителя матрицы: $$detA = \\sum_{j=1}^{n}a_{ij}A_{ij},$$ Можно вывести, что при умножении всех значений на числа $\\lambda$ приведет к кратному увеличению определителя\n"
   ]
  },
  {
   "cell_type": "code",
   "execution_count": null,
   "metadata": {},
   "outputs": [],
   "source": []
  },
  {
   "cell_type": "markdown",
   "metadata": {},
   "source": [
    "__3.__  Доказать, что матрица\n",
    "\n",
    "$$\\begin{pmatrix}\n",
    "-2 & 7 & -3\\\\ \n",
    "4 & -14 & 6\\\\ \n",
    "-3 & 7 & 13\n",
    "\\end{pmatrix}$$\n",
    "   \n",
    "вырожденная."
   ]
  },
  {
   "cell_type": "markdown",
   "metadata": {},
   "source": [
    "__Решение__\n",
    "\n",
    "Матрица считается вырожденной, если определитель равне 0. Найдем определитель\n",
    "\n",
    "$$det\\begin{pmatrix}\n",
    "-2 & 7 & -3\\\\ \n",
    "4 & -14 & 6\\\\ \n",
    "-3 & 7 & 13\n",
    "\\end{pmatrix}= -2 \\cdot\n",
    "\\begin{pmatrix}\n",
    "-14 & 6\\\\\n",
    "7 & 13\n",
    "\\end{pmatrix}-7 \\cdot\n",
    "\\begin{pmatrix}\n",
    "4 & 6\\\\\n",
    "-3 & 13\n",
    "\\end{pmatrix}-3 \\cdot\n",
    "\\begin{pmatrix}\n",
    "4 & -14\\\\\n",
    "-3 & 7\n",
    "\\end{pmatrix}=-2\\cdot(-224)-7\\cdot70-3\\cdot(-14)=0\n",
    "$$\n",
    "\n",
    "Что и требовалось доказать"
   ]
  },
  {
   "cell_type": "code",
   "execution_count": null,
   "metadata": {},
   "outputs": [],
   "source": []
  },
  {
   "cell_type": "markdown",
   "metadata": {},
   "source": [
    "__4.__ Найти ранг матрицы:\n",
    "\n",
    "   а) $\\begin{pmatrix}\n",
    "1 & 2 & 3\\\\ \n",
    "1 & 1 & 1\\\\ \n",
    "2 & 3 & 4\n",
    "\\end{pmatrix};$\n",
    "\n",
    "   б) $\\begin{pmatrix}\n",
    "0 & 0 & 2 & 1\\\\ \n",
    "0 & 0 & 2 & 2\\\\ \n",
    "0 & 0 & 4 & 3\\\\ \n",
    "2 & 3 & 5 & 6\n",
    "\\end{pmatrix}.$"
   ]
  },
  {
   "cell_type": "markdown",
   "metadata": {},
   "source": [
    "__Решение__\n",
    "\n",
    "3ая строка это сумма 2ух первых. Соответвеено ее можно отбросить\n",
    "\n",
    "$$\\begin{pmatrix}\n",
    "1 & 2 & 3\\\\ \n",
    "1 & 1 & 1\n",
    "\\end{pmatrix}$$\n",
    "\n",
    "Из первой строки вычтем вторую\n",
    "$$\\begin{pmatrix}\n",
    "0 & 1 & 2\\\\ \n",
    "1 & 1 & 1\n",
    "\\end{pmatrix}$$\n",
    "\n",
    "Ранг равен 2"
   ]
  },
  {
   "cell_type": "code",
   "execution_count": null,
   "metadata": {},
   "outputs": [],
   "source": []
  },
  {
   "cell_type": "code",
   "execution_count": 1,
   "metadata": {},
   "outputs": [],
   "source": [
    "import numpy as np"
   ]
  },
  {
   "cell_type": "code",
   "execution_count": 58,
   "metadata": {},
   "outputs": [
    {
     "name": "stdout",
     "output_type": "stream",
     "text": [
      "Ранг матрицы: 2\n"
     ]
    }
   ],
   "source": [
    "## проверка\n",
    "x = [1, 2, 3]\n",
    "y = [1, 1, 1]\n",
    "z = [2, 3, 4]\n",
    "\n",
    "a = np.array([x, y, z])\n",
    "r = np.linalg.matrix_rank(a)\n",
    "print(f'Ранг матрицы: {r}')"
   ]
  },
  {
   "cell_type": "markdown",
   "metadata": {},
   "source": [
    "б) \n",
    "3ая строка это сумма 1ой и 2ой. Соответвенно можно от нее избавиться\n",
    "\n",
    "$$\\begin{pmatrix}\n",
    "0 & 0 & 2 & 1\\\\ \n",
    "0 & 0 & 2 & 2\\\\  \n",
    "2 & 3 & 5 & 6\n",
    "\\end{pmatrix}$$\n",
    "\n",
    "Ранг матрицы равен 3"
   ]
  },
  {
   "cell_type": "code",
   "execution_count": 59,
   "metadata": {},
   "outputs": [
    {
     "name": "stdout",
     "output_type": "stream",
     "text": [
      "Ранг матрицы: 3\n"
     ]
    }
   ],
   "source": [
    "## проверка\n",
    "x = [0, 0, 2, 1]\n",
    "y = [0, 0, 2, 2]\n",
    "z = [0, 0, 4, 3]\n",
    "w = [2, 3, 5, 6]\n",
    "\n",
    "a = np.array([x, y, z, w])\n",
    "r = np.linalg.matrix_rank(a)\n",
    "print(f'Ранг матрицы: {r}')"
   ]
  },
  {
   "cell_type": "code",
   "execution_count": null,
   "metadata": {},
   "outputs": [],
   "source": []
  }
 ],
 "metadata": {
  "kernelspec": {
   "display_name": "Python 3",
   "language": "python",
   "name": "python3"
  },
  "language_info": {
   "codemirror_mode": {
    "name": "ipython",
    "version": 3
   },
   "file_extension": ".py",
   "mimetype": "text/x-python",
   "name": "python",
   "nbconvert_exporter": "python",
   "pygments_lexer": "ipython3",
   "version": "3.7.6"
  }
 },
 "nbformat": 4,
 "nbformat_minor": 4
}
