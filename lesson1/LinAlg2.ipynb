{
 "cells": [
  {
   "cell_type": "markdown",
   "metadata": {},
   "source": [
    "__1.__ Найти скалярное произведение векторов $x, y \\in \\mathbb{R}$:<br>\n",
    "а) $x=(0,-3, 6),~y=(-4, 7, 9);$<br>\n",
    "б) $x=(7, -4, 0, 1),~y=(-3, 1, 11, 2).$"
   ]
  },
  {
   "cell_type": "markdown",
   "metadata": {},
   "source": [
    "__Решение:__\n",
    "\n",
    "a)\n",
    "$$(x,y)=0\\cdot(-4)+(-3)\\cdot7+6\\cdot9=0-21+54=33$$\n",
    "\n",
    "б)\n",
    "$$(x,y)=7\\cdot(-3)+(-4)\\cdot1+0\\cdot11+1\\cdot2=-21-4+0+2=-23$$"
   ]
  },
  {
   "cell_type": "code",
   "execution_count": 2,
   "metadata": {},
   "outputs": [],
   "source": [
    "import numpy as np"
   ]
  },
  {
   "cell_type": "code",
   "execution_count": 8,
   "metadata": {},
   "outputs": [
    {
     "name": "stdout",
     "output_type": "stream",
     "text": [
      "Скалярное произведение x и y:\n",
      "33\n"
     ]
    }
   ],
   "source": [
    "# задание а\n",
    "x = np.array([0,-3,6])\n",
    "y = np.array([-4,7,9])\n",
    "print(f'Скалярное произведение x и y:\\n{np.dot(x, y)}')"
   ]
  },
  {
   "cell_type": "code",
   "execution_count": 7,
   "metadata": {},
   "outputs": [
    {
     "name": "stdout",
     "output_type": "stream",
     "text": [
      "Скалярное произведение x и y:\n",
      "-23\n"
     ]
    }
   ],
   "source": [
    "# задание б\n",
    "x = np.array([7,-4,0,1])\n",
    "y = np.array([-3,1,11,2])\n",
    "print(f'Скалярное произведение x и y:\\n{np.dot(x, y)}')"
   ]
  },
  {
   "cell_type": "code",
   "execution_count": null,
   "metadata": {},
   "outputs": [],
   "source": []
  },
  {
   "cell_type": "markdown",
   "metadata": {},
   "source": [
    "__2.__ Найти нормы векторов $(4, 2, 4)$ и $(12, 3, 4)$ и угол между ними."
   ]
  },
  {
   "cell_type": "markdown",
   "metadata": {},
   "source": [
    "Определим манхэттенскую норму вектора $a=(4, 2, 4)$:\n",
    "\n",
    "$$\\left\\|x\\right\\|_{1} = |4|+|2|+|4|=10$$\n",
    "Определим манхэттенскую норму вектора $b=(12, 3, 4)$:\n",
    "\n",
    "$$\\left\\|x\\right\\|_{1} = |12|+|3|+|4|=19$$\n",
    "\n",
    "\n",
    "Определим евклидову норму вектора $a$:\n",
    "\n",
    "$$\\left\\|x\\right\\|_{2} = \\sqrt{4^{2}+2^{2}+4^{2}}=\\sqrt{36}=6$$\n",
    "\n",
    "Определим евклидову норму вектора $b$:\n",
    "\n",
    "$$\\left\\|x\\right\\|_{2} = \\sqrt{12^{2}+3^{2}+4^{2}}=\\sqrt{169}=13$$\n",
    "\n",
    "Угол между векторами:\n",
    "\n",
    "$$cos\\varphi = \\frac{4\\cdot12+2\\cdot3+4\\cdot4}{\\sqrt{4^{2}+2^{2}+4^{2}}\\sqrt{12^{2}+3^{2}+4^{2}}}=\\frac{70}{78}\\approx 0.897$$"
   ]
  },
  {
   "cell_type": "code",
   "execution_count": 9,
   "metadata": {},
   "outputs": [],
   "source": [
    "from numpy.linalg import norm"
   ]
  },
  {
   "cell_type": "code",
   "execution_count": 47,
   "metadata": {},
   "outputs": [
    {
     "name": "stdout",
     "output_type": "stream",
     "text": [
      "l1 норма вектора a: 10.0\n",
      "l1 норма вектора b: 19.0\n",
      "l2 норма вектора a: 6.0\n",
      "l2 норма вектора b: 13.0\n"
     ]
    }
   ],
   "source": [
    "a = np.array([4, 2, 4])\n",
    "b = np.array([12, 3, 4])\n",
    "print(f'l1 норма вектора a: {norm(a, ord=1)}')\n",
    "print(f'l1 норма вектора b: {norm(b, ord=1)}')\n",
    "\n",
    "print(f'l2 норма вектора a: {norm(a, ord=2)}')\n",
    "print(f'l2 норма вектора b: {norm(b, ord=2)}')"
   ]
  },
  {
   "cell_type": "code",
   "execution_count": 56,
   "metadata": {},
   "outputs": [
    {
     "name": "stdout",
     "output_type": "stream",
     "text": [
      "Косинус угла между a и b: 0.897\n",
      "Угол между a и b: 0.457\n"
     ]
    }
   ],
   "source": [
    "cos_phi = np.dot(a, b) / (norm(a) * norm(b))\n",
    "print(f'Косинус угла между a и b: {cos_phi:.3f}')\n",
    "print(f'Угол между a и b: {np.arccos(cos_phi):.3f}')"
   ]
  },
  {
   "cell_type": "code",
   "execution_count": null,
   "metadata": {},
   "outputs": [],
   "source": []
  },
  {
   "cell_type": "markdown",
   "metadata": {},
   "source": [
    "__3.__ Будет ли линейное пространство евклидовым, если за скалярное произведение принять:<br>\n",
    "а) произведение длин векторов;<br>\n",
    "б) утроенное обычное скалярное произведение векторов?<br>"
   ]
  },
  {
   "cell_type": "markdown",
   "metadata": {},
   "source": [
    "Решение:\n",
    "\n",
    "\n",
    "a) \n",
    "\n",
    "Возьмем два вектора: <br>\n",
    "x1=(4,0)<br>\n",
    "x2=(0,3)<br>\n",
    "y=(5,0)<br>\n",
    "|x1|=\\sqrt{4^2+0^2}=4\n",
    "|x2|=\\sqrt{0^2+3^2}=3\n",
    "\n",
    "3-е свойсво x1+x2=(4,3)\n",
    "|x1+x2|=\\sqrt{4^2+3^2}=5\n",
    "|y|=5\n",
    "$$|x_1+x_2|\\cdot|y|=|x_1|\\cdot|y|+|x_2|\\cdot|y|$$\n",
    "$$5\\cdot5=4\\cdot5+3\\cdot5; 25 \\not= 35$$\n",
    "т.к.не все аксиомы срабатывают, то это не является евклидовым пространсвом.\n"
   ]
  },
  {
   "cell_type": "markdown",
   "metadata": {},
   "source": [
    "б) \n",
    "\n",
    "Возьмем два вектора: <br>\n",
    "x=(a,b,c);<br> y=(d,e,f)<br> Скалярное произведение:\n",
    "$$(x,y)=3(x,y)=3(ad+be+cf)$$\n",
    "\n",
    "При этом должны выполнять 4 аксиомы: <br>\n",
    "1) $(x,y)=(y,x);$<br>\n",
    "$$3(ad+be+cf)=3(da+eb+fc)$$\n",
    "2)$(\\lambda x, y)=\\lambda(x, y);$<br>\n",
    "$$3(\\lambda ad+\\lambda be+\\lambda cf)=3\\lambda(ab+be+cf)$$\n",
    "3) $(x_{1}+x_{2},y)=(x_{1},y)+(x_{2},y);$<br>\n",
    "$$3(x+X_1,y)=3((a+x_1)d+(b+x_2)e+(c+x_3)f)=3(ad+x_1d+be+x_2e+cf+x_3f)=3((x,y)+(X_1,y))$$\n",
    "4) $(x, x)\\geq0$, причем $(x,x)=0\\Leftrightarrow x=0.$\n",
    "$$a^2+b^2+c^2=0\\Leftrightarrow x=0$$\n",
    "\n",
    "т.к. все аксиомы исполняются, то это евклидово пространсво."
   ]
  },
  {
   "cell_type": "code",
   "execution_count": null,
   "metadata": {},
   "outputs": [],
   "source": []
  },
  {
   "cell_type": "markdown",
   "metadata": {},
   "source": [
    "__4.__ Какие из нижеперечисленных векторов образуют ортонормированный базис в линейном пространстве $\\mathbb{R}^{3}$:<br>\n",
    "а) $(1,0,0),(0,0,1);$ <br>\n",
    "б) $(1/\\sqrt{2},-1/\\sqrt{2},0),(1/\\sqrt{2},1/\\sqrt{2},0), (0,0,1);$<br>\n",
    "в) $(1/2, -1/2, 0), (0, 1/2, 1/2), (0,0,1);$<br>\n",
    "г) $(1,0,0),(0,1,0),(0,0,1)?$ \n"
   ]
  },
  {
   "cell_type": "markdown",
   "metadata": {},
   "source": [
    "Решение:\n",
    "Два вектора a и b ортогональны (перпендикулярны), если их скалярное произведение равно нулю."
   ]
  },
  {
   "cell_type": "code",
   "execution_count": 86,
   "metadata": {},
   "outputs": [
    {
     "data": {
      "text/plain": [
       "0"
      ]
     },
     "execution_count": 86,
     "metadata": {},
     "output_type": "execute_result"
    }
   ],
   "source": [
    "# а\n",
    "a = np.array([1,0,0])\n",
    "b = np.array([0,0,1])\n",
    "1*0+0*0+0*1\n",
    "#Скалярное произведение векторов равно 0, поэтому векторы ортогональны"
   ]
  },
  {
   "cell_type": "code",
   "execution_count": 87,
   "metadata": {},
   "outputs": [
    {
     "data": {
      "text/plain": [
       "0.0"
      ]
     },
     "execution_count": 87,
     "metadata": {},
     "output_type": "execute_result"
    }
   ],
   "source": [
    "# б\n",
    "a = np.array([1/sqrt(2),-1/sqrt(2),0])\n",
    "b = np.array([1/sqrt(2),1/sqrt(2),0])\n",
    "c = np.array([0,0,1])\n",
    "1/sqrt(2)*1/sqrt(2)*0-1/sqrt(2)*1/sqrt(2)*0+0*0*1\n",
    "#Скалярное произведение векторов равно 0, поэтому векторы ортогональны"
   ]
  },
  {
   "cell_type": "code",
   "execution_count": 3,
   "metadata": {},
   "outputs": [
    {
     "data": {
      "text/plain": [
       "0.0"
      ]
     },
     "execution_count": 3,
     "metadata": {},
     "output_type": "execute_result"
    }
   ],
   "source": [
    "# в\n",
    "a = np.array([1/2, -1/2, 0])\n",
    "b = np.array([0, 1/2, 1/2])\n",
    "c = np.array([0,0,1])\n",
    "1/2*0*0-1/2*1/2*0+0*1/2*1\n",
    "#Скалярное произведение векторов равно 0, поэтому векторы ортогональны"
   ]
  },
  {
   "cell_type": "code",
   "execution_count": 90,
   "metadata": {},
   "outputs": [
    {
     "data": {
      "text/plain": [
       "0"
      ]
     },
     "execution_count": 90,
     "metadata": {},
     "output_type": "execute_result"
    }
   ],
   "source": [
    "# г\n",
    "a = np.array([1,0,0])\n",
    "b = np.array([0,1,0])\n",
    "c = np.array([0,0,1])\n",
    "1*0*0+0*1*0+0*0*1\n",
    "#Скалярное произведение векторов равно 0, поэтому векторы ортогональны"
   ]
  },
  {
   "cell_type": "code",
   "execution_count": null,
   "metadata": {},
   "outputs": [],
   "source": []
  }
 ],
 "metadata": {
  "kernelspec": {
   "display_name": "Python 3",
   "language": "python",
   "name": "python3"
  },
  "language_info": {
   "codemirror_mode": {
    "name": "ipython",
    "version": 3
   },
   "file_extension": ".py",
   "mimetype": "text/x-python",
   "name": "python",
   "nbconvert_exporter": "python",
   "pygments_lexer": "ipython3",
   "version": "3.7.6"
  }
 },
 "nbformat": 4,
 "nbformat_minor": 4
}
